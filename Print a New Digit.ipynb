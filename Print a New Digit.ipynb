{
 "cells": [
  {
   "cell_type": "markdown",
   "metadata": {},
   "source": [
    "# Coding Challenge\n",
    "Sourced from [/r/dailyprogrammer](https://www.reddit.com/r/dailyprogrammer/comments/aphavc/20190211_challenge_375_easy_print_a_new_number_by/)\n",
    "\n",
    "### 375. Print a New Number by Adding One to Each Digit\n",
    "\n",
    "A number is the input. The output will be a new number which should get printed by adding one to each of its digits. \n",
    "\n",
    "**Example** <br />\n",
    "**Input**: `998` <br />\n",
    "**Output**: `10109` <br />\n",
    "\n",
    "Note:\n",
    "1. If you encounter a 9, insert a 10 (don't carry over, just shift things around).\n",
    "2. You are not allowed to cast it as a string at any point.\n",
    "\n",
    "Assumptions - the following are not stated explicitly in the prompt, so I will assume:\n",
    "1. The input is always an integer.\n",
    "\n",
    "\n",
    "**MY SOLUTION**"
   ]
  },
  {
   "cell_type": "code",
   "execution_count": 18,
   "metadata": {},
   "outputs": [],
   "source": [
    "def new_number(num):\n",
    "    i = 0\n",
    "    new_num = 0\n",
    "    while num > 0:\n",
    "        last, remainder = num % 10, num // 10\n",
    "        new_last = last + 1\n",
    "        # Now to check if the next number will have to have\n",
    "        # another power of ten added to it:\n",
    "        if new_last == 10:\n",
    "            new_last *= 10**(2*i)\n",
    "        new_num += new_last\n",
    "        i += 1\n",
    "        num = remainder\n",
    "    return new_num"
   ]
  },
  {
   "cell_type": "markdown",
   "metadata": {},
   "source": [
    "**TESTING**"
   ]
  },
  {
   "cell_type": "code",
   "execution_count": 19,
   "metadata": {},
   "outputs": [
    {
     "data": {
      "text/plain": [
       "101009"
      ]
     },
     "execution_count": 19,
     "metadata": {},
     "output_type": "execute_result"
    }
   ],
   "source": [
    "new_number(998)"
   ]
  },
  {
   "cell_type": "code",
   "execution_count": null,
   "metadata": {},
   "outputs": [],
   "source": []
  }
 ],
 "metadata": {
  "kernelspec": {
   "display_name": "Python 3",
   "language": "python",
   "name": "python3"
  },
  "language_info": {
   "codemirror_mode": {
    "name": "ipython",
    "version": 3
   },
   "file_extension": ".py",
   "mimetype": "text/x-python",
   "name": "python",
   "nbconvert_exporter": "python",
   "pygments_lexer": "ipython3",
   "version": "3.6.7"
  }
 },
 "nbformat": 4,
 "nbformat_minor": 2
}
